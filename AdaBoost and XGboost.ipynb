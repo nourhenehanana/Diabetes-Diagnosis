{
 "cells": [
  {
   "cell_type": "code",
   "execution_count": 1,
   "id": "76524c48",
   "metadata": {},
   "outputs": [],
   "source": [
    "import pandas \n",
    "from sklearn import model_selection \n",
    "from sklearn.ensemble import AdaBoostClassifier"
   ]
  },
  {
   "cell_type": "code",
   "execution_count": 2,
   "id": "251ff032",
   "metadata": {},
   "outputs": [],
   "source": [
    "dataframe= pandas.read_csv('pima-indians-diabetes.csv')\n",
    "#extract the data in a form of an array\n",
    "array=dataframe.values\n",
    "X=array[:,0:8]\n",
    "Y=array[:,8]\n",
    "seed=7\n",
    "num_trees=30"
   ]
  },
  {
   "cell_type": "code",
   "execution_count": 5,
   "id": "3aedd659",
   "metadata": {},
   "outputs": [
    {
     "name": "stdout",
     "output_type": "stream",
     "text": [
      "0.7552802460697198\n"
     ]
    }
   ],
   "source": [
    "#build classifiers unsing XGboost and adaboost\n",
    "#split the trainset on 10 consecutive folds\n",
    "#the objective: evaluate the models such that each fold gets once as a \n",
    "#validation while the remaining nine fold from the training. \n",
    "kfold=model_selection.KFold(n_splits=10,random_state=seed,shuffle=True)\n",
    "#adaboost uses decision tree classifier as the default classifier\n",
    "model=AdaBoostClassifier(n_estimators=num_trees)\n",
    "results=model_selection.cross_val_score(model,X,Y,cv=kfold)\n",
    "print(results.mean())"
   ]
  },
  {
   "cell_type": "code",
   "execution_count": 16,
   "id": "0c658105",
   "metadata": {},
   "outputs": [
    {
     "name": "stdout",
     "output_type": "stream",
     "text": [
      "0.7499487354750513\n"
     ]
    }
   ],
   "source": [
    "#XG boost\n",
    "from sklearn import svm \n",
    "from xgboost import XGBClassifier\n",
    "\n",
    "clf=XGBClassifier()\n",
    "seed=7\n",
    "num_trees=30\n",
    "kfold=model_selection.KFold(n_splits=10)\n",
    "model=XGBClassifier(n_estimators=num_trees,random_state=seed)\n",
    "results=model_selection.cross_val_score(model,X,Y,cv=kfold)\n",
    "print(results.mean())"
   ]
  },
  {
   "cell_type": "code",
   "execution_count": null,
   "id": "d05eb2fe",
   "metadata": {},
   "outputs": [],
   "source": []
  },
  {
   "cell_type": "code",
   "execution_count": null,
   "id": "f8c91418",
   "metadata": {},
   "outputs": [],
   "source": []
  }
 ],
 "metadata": {
  "kernelspec": {
   "display_name": "Python 3 (ipykernel)",
   "language": "python",
   "name": "python3"
  },
  "language_info": {
   "codemirror_mode": {
    "name": "ipython",
    "version": 3
   },
   "file_extension": ".py",
   "mimetype": "text/x-python",
   "name": "python",
   "nbconvert_exporter": "python",
   "pygments_lexer": "ipython3",
   "version": "3.9.12"
  }
 },
 "nbformat": 4,
 "nbformat_minor": 5
}
